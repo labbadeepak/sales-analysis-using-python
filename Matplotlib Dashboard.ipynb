{
 "cells": [
  {
   "cell_type": "code",
   "execution_count": 5,
   "id": "622e5eb7",
   "metadata": {},
   "outputs": [],
   "source": [
    "import pandas as pd"
   ]
  },
  {
   "cell_type": "code",
   "execution_count": 6,
   "id": "6485ff59",
   "metadata": {},
   "outputs": [],
   "source": [
    "df=pd.read_csv(\"all_month_full_data.csv\")"
   ]
  },
  {
   "cell_type": "code",
   "execution_count": 7,
   "id": "0c7f38a6",
   "metadata": {},
   "outputs": [
    {
     "data": {
      "text/html": [
       "<div>\n",
       "<style scoped>\n",
       "    .dataframe tbody tr th:only-of-type {\n",
       "        vertical-align: middle;\n",
       "    }\n",
       "\n",
       "    .dataframe tbody tr th {\n",
       "        vertical-align: top;\n",
       "    }\n",
       "\n",
       "    .dataframe thead th {\n",
       "        text-align: right;\n",
       "    }\n",
       "</style>\n",
       "<table border=\"1\" class=\"dataframe\">\n",
       "  <thead>\n",
       "    <tr style=\"text-align: right;\">\n",
       "      <th></th>\n",
       "      <th>Order ID</th>\n",
       "      <th>Product</th>\n",
       "      <th>Quantity Ordered</th>\n",
       "      <th>Price Each</th>\n",
       "      <th>Order Date</th>\n",
       "      <th>Purchase Address</th>\n",
       "      <th>month</th>\n",
       "      <th>sales price</th>\n",
       "      <th>city</th>\n",
       "      <th>Hour</th>\n",
       "    </tr>\n",
       "  </thead>\n",
       "  <tbody>\n",
       "    <tr>\n",
       "      <th>0</th>\n",
       "      <td>176558</td>\n",
       "      <td>USB-C Charging Cable</td>\n",
       "      <td>2</td>\n",
       "      <td>11.95</td>\n",
       "      <td>04/19/19 08:46</td>\n",
       "      <td>917 1st St, Dallas, TX 75001</td>\n",
       "      <td>4</td>\n",
       "      <td>23.90</td>\n",
       "      <td>Dallas(TX)</td>\n",
       "      <td>8</td>\n",
       "    </tr>\n",
       "    <tr>\n",
       "      <th>1</th>\n",
       "      <td>176559</td>\n",
       "      <td>Bose SoundSport Headphones</td>\n",
       "      <td>1</td>\n",
       "      <td>99.99</td>\n",
       "      <td>04/07/19 22:30</td>\n",
       "      <td>682 Chestnut St, Boston, MA 02215</td>\n",
       "      <td>4</td>\n",
       "      <td>99.99</td>\n",
       "      <td>Boston(MA)</td>\n",
       "      <td>22</td>\n",
       "    </tr>\n",
       "    <tr>\n",
       "      <th>2</th>\n",
       "      <td>176560</td>\n",
       "      <td>Google Phone</td>\n",
       "      <td>1</td>\n",
       "      <td>600.00</td>\n",
       "      <td>04/12/19 14:38</td>\n",
       "      <td>669 Spruce St, Los Angeles, CA 90001</td>\n",
       "      <td>4</td>\n",
       "      <td>600.00</td>\n",
       "      <td>Los Angeles(CA)</td>\n",
       "      <td>14</td>\n",
       "    </tr>\n",
       "    <tr>\n",
       "      <th>3</th>\n",
       "      <td>176560</td>\n",
       "      <td>Wired Headphones</td>\n",
       "      <td>1</td>\n",
       "      <td>11.99</td>\n",
       "      <td>04/12/19 14:38</td>\n",
       "      <td>669 Spruce St, Los Angeles, CA 90001</td>\n",
       "      <td>4</td>\n",
       "      <td>11.99</td>\n",
       "      <td>Los Angeles(CA)</td>\n",
       "      <td>14</td>\n",
       "    </tr>\n",
       "    <tr>\n",
       "      <th>4</th>\n",
       "      <td>176561</td>\n",
       "      <td>Wired Headphones</td>\n",
       "      <td>1</td>\n",
       "      <td>11.99</td>\n",
       "      <td>04/30/19 09:27</td>\n",
       "      <td>333 8th St, Los Angeles, CA 90001</td>\n",
       "      <td>4</td>\n",
       "      <td>11.99</td>\n",
       "      <td>Los Angeles(CA)</td>\n",
       "      <td>9</td>\n",
       "    </tr>\n",
       "    <tr>\n",
       "      <th>...</th>\n",
       "      <td>...</td>\n",
       "      <td>...</td>\n",
       "      <td>...</td>\n",
       "      <td>...</td>\n",
       "      <td>...</td>\n",
       "      <td>...</td>\n",
       "      <td>...</td>\n",
       "      <td>...</td>\n",
       "      <td>...</td>\n",
       "      <td>...</td>\n",
       "    </tr>\n",
       "    <tr>\n",
       "      <th>185945</th>\n",
       "      <td>259353</td>\n",
       "      <td>AAA Batteries (4-pack)</td>\n",
       "      <td>3</td>\n",
       "      <td>2.99</td>\n",
       "      <td>09/17/19 20:56</td>\n",
       "      <td>840 Highland St, Los Angeles, CA 90001</td>\n",
       "      <td>9</td>\n",
       "      <td>8.97</td>\n",
       "      <td>Los Angeles(CA)</td>\n",
       "      <td>20</td>\n",
       "    </tr>\n",
       "    <tr>\n",
       "      <th>185946</th>\n",
       "      <td>259354</td>\n",
       "      <td>iPhone</td>\n",
       "      <td>1</td>\n",
       "      <td>700.00</td>\n",
       "      <td>09/01/19 16:00</td>\n",
       "      <td>216 Dogwood St, San Francisco, CA 94016</td>\n",
       "      <td>9</td>\n",
       "      <td>700.00</td>\n",
       "      <td>San Francisco(CA)</td>\n",
       "      <td>16</td>\n",
       "    </tr>\n",
       "    <tr>\n",
       "      <th>185947</th>\n",
       "      <td>259355</td>\n",
       "      <td>iPhone</td>\n",
       "      <td>1</td>\n",
       "      <td>700.00</td>\n",
       "      <td>09/23/19 07:39</td>\n",
       "      <td>220 12th St, San Francisco, CA 94016</td>\n",
       "      <td>9</td>\n",
       "      <td>700.00</td>\n",
       "      <td>San Francisco(CA)</td>\n",
       "      <td>7</td>\n",
       "    </tr>\n",
       "    <tr>\n",
       "      <th>185948</th>\n",
       "      <td>259356</td>\n",
       "      <td>34in Ultrawide Monitor</td>\n",
       "      <td>1</td>\n",
       "      <td>379.99</td>\n",
       "      <td>09/19/19 17:30</td>\n",
       "      <td>511 Forest St, San Francisco, CA 94016</td>\n",
       "      <td>9</td>\n",
       "      <td>379.99</td>\n",
       "      <td>San Francisco(CA)</td>\n",
       "      <td>17</td>\n",
       "    </tr>\n",
       "    <tr>\n",
       "      <th>185949</th>\n",
       "      <td>259357</td>\n",
       "      <td>USB-C Charging Cable</td>\n",
       "      <td>1</td>\n",
       "      <td>11.95</td>\n",
       "      <td>09/30/19 00:18</td>\n",
       "      <td>250 Meadow St, San Francisco, CA 94016</td>\n",
       "      <td>9</td>\n",
       "      <td>11.95</td>\n",
       "      <td>San Francisco(CA)</td>\n",
       "      <td>0</td>\n",
       "    </tr>\n",
       "  </tbody>\n",
       "</table>\n",
       "<p>185950 rows × 10 columns</p>\n",
       "</div>"
      ],
      "text/plain": [
       "        Order ID                     Product  Quantity Ordered  Price Each  \\\n",
       "0         176558        USB-C Charging Cable                 2       11.95   \n",
       "1         176559  Bose SoundSport Headphones                 1       99.99   \n",
       "2         176560                Google Phone                 1      600.00   \n",
       "3         176560            Wired Headphones                 1       11.99   \n",
       "4         176561            Wired Headphones                 1       11.99   \n",
       "...          ...                         ...               ...         ...   \n",
       "185945    259353      AAA Batteries (4-pack)                 3        2.99   \n",
       "185946    259354                      iPhone                 1      700.00   \n",
       "185947    259355                      iPhone                 1      700.00   \n",
       "185948    259356      34in Ultrawide Monitor                 1      379.99   \n",
       "185949    259357        USB-C Charging Cable                 1       11.95   \n",
       "\n",
       "            Order Date                         Purchase Address  month  \\\n",
       "0       04/19/19 08:46             917 1st St, Dallas, TX 75001      4   \n",
       "1       04/07/19 22:30        682 Chestnut St, Boston, MA 02215      4   \n",
       "2       04/12/19 14:38     669 Spruce St, Los Angeles, CA 90001      4   \n",
       "3       04/12/19 14:38     669 Spruce St, Los Angeles, CA 90001      4   \n",
       "4       04/30/19 09:27        333 8th St, Los Angeles, CA 90001      4   \n",
       "...                ...                                      ...    ...   \n",
       "185945  09/17/19 20:56   840 Highland St, Los Angeles, CA 90001      9   \n",
       "185946  09/01/19 16:00  216 Dogwood St, San Francisco, CA 94016      9   \n",
       "185947  09/23/19 07:39     220 12th St, San Francisco, CA 94016      9   \n",
       "185948  09/19/19 17:30   511 Forest St, San Francisco, CA 94016      9   \n",
       "185949  09/30/19 00:18   250 Meadow St, San Francisco, CA 94016      9   \n",
       "\n",
       "        sales price                city  Hour  \n",
       "0             23.90          Dallas(TX)     8  \n",
       "1             99.99          Boston(MA)    22  \n",
       "2            600.00     Los Angeles(CA)    14  \n",
       "3             11.99     Los Angeles(CA)    14  \n",
       "4             11.99     Los Angeles(CA)     9  \n",
       "...             ...                 ...   ...  \n",
       "185945         8.97     Los Angeles(CA)    20  \n",
       "185946       700.00   San Francisco(CA)    16  \n",
       "185947       700.00   San Francisco(CA)     7  \n",
       "185948       379.99   San Francisco(CA)    17  \n",
       "185949        11.95   San Francisco(CA)     0  \n",
       "\n",
       "[185950 rows x 10 columns]"
      ]
     },
     "execution_count": 7,
     "metadata": {},
     "output_type": "execute_result"
    }
   ],
   "source": [
    "df"
   ]
  },
  {
   "cell_type": "code",
   "execution_count": 14,
   "id": "825d9393",
   "metadata": {},
   "outputs": [
    {
     "name": "stdout",
     "output_type": "stream",
     "text": [
      "[1, 2, 3, 4, 5, 6, 7, 8, 9, 10, 11, 12]\n"
     ]
    },
    {
     "data": {
      "image/png": "[encoded data removed]",
      "text/plain": [
       "<Figure size 432x288 with 1 Axes>"
      ]
     },
     "metadata": {
      "needs_background": "light"
     },
     "output_type": "display_data"
    }
   ],
   "source": [
    "import matplotlib.pyplot as plt\n",
    "\n",
    "months =[month for month,df in df.groupby(['month'])]\n",
    "print(months)\n",
    "\n",
    "\n",
    "plt.bar(months,df.groupby(['month']).sum()['sales price'])\n",
    "plt.xticks(months)\n",
    "plt.ylabel('Sales in USD ($)')\n",
    "plt.xlabel('Month number')\n",
    "plt.show()"
   ]
  },
  {
   "cell_type": "code",
   "execution_count": 16,
   "id": "30ed8f6b",
   "metadata": {},
   "outputs": [
    {
     "data": {
      "image/png": "[encoded data removed]",
      "text/plain": [
       "<Figure size 432x288 with 1 Axes>"
      ]
     },
     "metadata": {
      "needs_background": "light"
     },
     "output_type": "display_data"
    }
   ],
   "source": [
    "hrs=[hr for hr ,df in df.groupby(['Hour'])]\n",
    "plt.plot(hrs,df.groupby(['Hour']).count()['Order ID'])\n",
    "plt.xticks(hrs)\n",
    "plt.xlabel('hours')\n",
    "plt.ylabel('no of sales')\n",
    "plt.grid()"
   ]
  },
  {
   "cell_type": "code",
   "execution_count": 17,
   "id": "da43df1f",
   "metadata": {},
   "outputs": [
    {
     "data": {
      "text/plain": [
       "Text(0, 0.5, 'sales in $')"
      ]
     },
     "execution_count": 17,
     "metadata": {},
     "output_type": "execute_result"
    },
    {
     "data": {
      "image/png": "[encoded data removed]",
      "text/plain": [
       "<Figure size 432x288 with 1 Axes>"
      ]
     },
     "metadata": {
      "needs_background": "light"
     },
     "output_type": "display_data"
    }
   ],
   "source": [
    "city= [city for city,df in df.groupby(['city'])]\n",
    "\n",
    "plt.bar(city,df.groupby(['city']).sum()['sales price'])\n",
    "plt.xticks(city,rotation='vertical')\n",
    "plt.xlabel('city')\n",
    "plt.ylabel('sales in $')"
   ]
  },
  {
   "cell_type": "code",
   "execution_count": 32,
   "id": "3b5fcdee",
   "metadata": {},
   "outputs": [
    {
     "name": "stderr",
     "output_type": "stream",
     "text": [
      "<ipython-input-32-9ba77875a320>:8: UserWarning: FixedFormatter should only be used together with FixedLocator\n",
      "  ax1.set_xticklabels(products, rotation='vertical')\n"
     ]
    },
    {
     "data": {
      "image/png": "[encoded data removed]",
      "text/plain": [
       "<Figure size 432x288 with 2 Axes>"
      ]
     },
     "metadata": {
      "needs_background": "light"
     },
     "output_type": "display_data"
    }
   ],
   "source": [
    "products=[product  for product , df in df.groupby('Product')]\n",
    "\n",
    "fig, ax1 = plt.subplots()\n",
    "\n",
    "ax2 = ax1.twinx()\n",
    "ax1.bar(products,df.groupby(['Product']).sum()['Quantity Ordered'] )\n",
    "ax2.plot(products,df.groupby(['Product']).mean()['Price Each'], color='y')\n",
    "ax1.set_xticklabels(products, rotation='vertical')\n",
    "ax1.set_xlabel('products name')\n",
    "ax1.set_ylabel('no of items sold ')\n",
    "ax2.set_ylabel('cost of product')\n",
    "plt.show()\n"
   ]
  },
  {
   "cell_type": "markdown",
   "id": "861db727",
   "metadata": {},
   "source": [
    "# products often ordered together"
   ]
  },
  {
   "cell_type": "markdown",
   "id": "0baee150",
   "metadata": {},
   "source": [
    "##some products have same same order date and order id that means they are order once.\n",
    "##lets find out what products are ordered more together"
   ]
  },
  {
   "cell_type": "markdown",
   "id": "dd481c6f",
   "metadata": {},
   "source": [
    "concatenate the string\n",
    "df['branch'] = df.groupby(['Name'])['branch'].transform(lambda x : ' '.join(x))\n",
    "\n",
    "drop duplicate data\n",
    "df = df.drop_duplicates()"
   ]
  },
  {
   "cell_type": "code",
   "execution_count": 33,
   "id": "be99a414",
   "metadata": {},
   "outputs": [],
   "source": [
    "df=df[df['Order ID'].duplicated(keep=False)]"
   ]
  },
  {
   "cell_type": "code",
   "execution_count": 34,
   "id": "77518927",
   "metadata": {},
   "outputs": [
    {
     "name": "stderr",
     "output_type": "stream",
     "text": [
      "<ipython-input-34-35904db16930>:1: SettingWithCopyWarning: \n",
      "A value is trying to be set on a copy of a slice from a DataFrame.\n",
      "Try using .loc[row_indexer,col_indexer] = value instead\n",
      "\n",
      "See the caveats in the documentation: https://pandas.pydata.org/pandas-docs/stable/user_guide/indexing.html#returning-a-view-versus-a-copy\n",
      "  df['grouped']=df.groupby('Order ID')['Product'].transform(lambda x:','.join(x))\n"
     ]
    }
   ],
   "source": [
    "df['grouped']=df.groupby('Order ID')['Product'].transform(lambda x:','.join(x))"
   ]
  },
  {
   "cell_type": "code",
   "execution_count": 36,
   "id": "8f4ea402",
   "metadata": {},
   "outputs": [
    {
     "data": {
      "text/html": [
       "<div>\n",
       "<style scoped>\n",
       "    .dataframe tbody tr th:only-of-type {\n",
       "        vertical-align: middle;\n",
       "    }\n",
       "\n",
       "    .dataframe tbody tr th {\n",
       "        vertical-align: top;\n",
       "    }\n",
       "\n",
       "    .dataframe thead th {\n",
       "        text-align: right;\n",
       "    }\n",
       "</style>\n",
       "<table border=\"1\" class=\"dataframe\">\n",
       "  <thead>\n",
       "    <tr style=\"text-align: right;\">\n",
       "      <th></th>\n",
       "      <th>Order ID</th>\n",
       "      <th>Product</th>\n",
       "      <th>Quantity Ordered</th>\n",
       "      <th>Price Each</th>\n",
       "      <th>Order Date</th>\n",
       "      <th>Purchase Address</th>\n",
       "      <th>month</th>\n",
       "      <th>sales price</th>\n",
       "      <th>city</th>\n",
       "      <th>Hour</th>\n",
       "      <th>grouped</th>\n",
       "    </tr>\n",
       "  </thead>\n",
       "  <tbody>\n",
       "    <tr>\n",
       "      <th>2</th>\n",
       "      <td>176560</td>\n",
       "      <td>Google Phone</td>\n",
       "      <td>1</td>\n",
       "      <td>600.00</td>\n",
       "      <td>04/12/19 14:38</td>\n",
       "      <td>669 Spruce St, Los Angeles, CA 90001</td>\n",
       "      <td>4</td>\n",
       "      <td>600.00</td>\n",
       "      <td>Los Angeles(CA)</td>\n",
       "      <td>14</td>\n",
       "      <td>Google Phone,Wired Headphones</td>\n",
       "    </tr>\n",
       "    <tr>\n",
       "      <th>3</th>\n",
       "      <td>176560</td>\n",
       "      <td>Wired Headphones</td>\n",
       "      <td>1</td>\n",
       "      <td>11.99</td>\n",
       "      <td>04/12/19 14:38</td>\n",
       "      <td>669 Spruce St, Los Angeles, CA 90001</td>\n",
       "      <td>4</td>\n",
       "      <td>11.99</td>\n",
       "      <td>Los Angeles(CA)</td>\n",
       "      <td>14</td>\n",
       "      <td>Google Phone,Wired Headphones</td>\n",
       "    </tr>\n",
       "    <tr>\n",
       "      <th>17</th>\n",
       "      <td>176574</td>\n",
       "      <td>Google Phone</td>\n",
       "      <td>1</td>\n",
       "      <td>600.00</td>\n",
       "      <td>04/03/19 19:42</td>\n",
       "      <td>20 Hill St, Los Angeles, CA 90001</td>\n",
       "      <td>4</td>\n",
       "      <td>600.00</td>\n",
       "      <td>Los Angeles(CA)</td>\n",
       "      <td>19</td>\n",
       "      <td>Google Phone,USB-C Charging Cable</td>\n",
       "    </tr>\n",
       "    <tr>\n",
       "      <th>18</th>\n",
       "      <td>176574</td>\n",
       "      <td>USB-C Charging Cable</td>\n",
       "      <td>1</td>\n",
       "      <td>11.95</td>\n",
       "      <td>04/03/19 19:42</td>\n",
       "      <td>20 Hill St, Los Angeles, CA 90001</td>\n",
       "      <td>4</td>\n",
       "      <td>11.95</td>\n",
       "      <td>Los Angeles(CA)</td>\n",
       "      <td>19</td>\n",
       "      <td>Google Phone,USB-C Charging Cable</td>\n",
       "    </tr>\n",
       "    <tr>\n",
       "      <th>29</th>\n",
       "      <td>176585</td>\n",
       "      <td>Bose SoundSport Headphones</td>\n",
       "      <td>1</td>\n",
       "      <td>99.99</td>\n",
       "      <td>04/07/19 11:31</td>\n",
       "      <td>823 Highland St, Boston, MA 02215</td>\n",
       "      <td>4</td>\n",
       "      <td>99.99</td>\n",
       "      <td>Boston(MA)</td>\n",
       "      <td>11</td>\n",
       "      <td>Bose SoundSport Headphones,Bose SoundSport Hea...</td>\n",
       "    </tr>\n",
       "  </tbody>\n",
       "</table>\n",
       "</div>"
      ],
      "text/plain": [
       "    Order ID                     Product  Quantity Ordered  Price Each  \\\n",
       "2     176560                Google Phone                 1      600.00   \n",
       "3     176560            Wired Headphones                 1       11.99   \n",
       "17    176574                Google Phone                 1      600.00   \n",
       "18    176574        USB-C Charging Cable                 1       11.95   \n",
       "29    176585  Bose SoundSport Headphones                 1       99.99   \n",
       "\n",
       "        Order Date                      Purchase Address  month  sales price  \\\n",
       "2   04/12/19 14:38  669 Spruce St, Los Angeles, CA 90001      4       600.00   \n",
       "3   04/12/19 14:38  669 Spruce St, Los Angeles, CA 90001      4        11.99   \n",
       "17  04/03/19 19:42     20 Hill St, Los Angeles, CA 90001      4       600.00   \n",
       "18  04/03/19 19:42     20 Hill St, Los Angeles, CA 90001      4        11.95   \n",
       "29  04/07/19 11:31     823 Highland St, Boston, MA 02215      4        99.99   \n",
       "\n",
       "                city  Hour                                            grouped  \n",
       "2    Los Angeles(CA)    14                      Google Phone,Wired Headphones  \n",
       "3    Los Angeles(CA)    14                      Google Phone,Wired Headphones  \n",
       "17   Los Angeles(CA)    19                  Google Phone,USB-C Charging Cable  \n",
       "18   Los Angeles(CA)    19                  Google Phone,USB-C Charging Cable  \n",
       "29        Boston(MA)    11  Bose SoundSport Headphones,Bose SoundSport Hea...  "
      ]
     },
     "execution_count": 36,
     "metadata": {},
     "output_type": "execute_result"
    }
   ],
   "source": [
    "df.head(5)"
   ]
  },
  {
   "cell_type": "code",
   "execution_count": 37,
   "id": "7f7d9668",
   "metadata": {},
   "outputs": [
    {
     "data": {
      "text/html": [
       "<div>\n",
       "<style scoped>\n",
       "    .dataframe tbody tr th:only-of-type {\n",
       "        vertical-align: middle;\n",
       "    }\n",
       "\n",
       "    .dataframe tbody tr th {\n",
       "        vertical-align: top;\n",
       "    }\n",
       "\n",
       "    .dataframe thead th {\n",
       "        text-align: right;\n",
       "    }\n",
       "</style>\n",
       "<table border=\"1\" class=\"dataframe\">\n",
       "  <thead>\n",
       "    <tr style=\"text-align: right;\">\n",
       "      <th></th>\n",
       "      <th>Order ID</th>\n",
       "      <th>grouped</th>\n",
       "    </tr>\n",
       "  </thead>\n",
       "  <tbody>\n",
       "    <tr>\n",
       "      <th>2</th>\n",
       "      <td>176560</td>\n",
       "      <td>Google Phone,Wired Headphones</td>\n",
       "    </tr>\n",
       "    <tr>\n",
       "      <th>17</th>\n",
       "      <td>176574</td>\n",
       "      <td>Google Phone,USB-C Charging Cable</td>\n",
       "    </tr>\n",
       "    <tr>\n",
       "      <th>29</th>\n",
       "      <td>176585</td>\n",
       "      <td>Bose SoundSport Headphones,Bose SoundSport Hea...</td>\n",
       "    </tr>\n",
       "    <tr>\n",
       "      <th>31</th>\n",
       "      <td>176586</td>\n",
       "      <td>AAA Batteries (4-pack),Google Phone</td>\n",
       "    </tr>\n",
       "    <tr>\n",
       "      <th>118</th>\n",
       "      <td>176672</td>\n",
       "      <td>Lightning Charging Cable,USB-C Charging Cable</td>\n",
       "    </tr>\n",
       "  </tbody>\n",
       "</table>\n",
       "</div>"
      ],
      "text/plain": [
       "     Order ID                                            grouped\n",
       "2      176560                      Google Phone,Wired Headphones\n",
       "17     176574                  Google Phone,USB-C Charging Cable\n",
       "29     176585  Bose SoundSport Headphones,Bose SoundSport Hea...\n",
       "31     176586                AAA Batteries (4-pack),Google Phone\n",
       "118    176672      Lightning Charging Cable,USB-C Charging Cable"
      ]
     },
     "execution_count": 37,
     "metadata": {},
     "output_type": "execute_result"
    }
   ],
   "source": [
    "df=df[['Order ID','grouped']].drop_duplicates()\n",
    "df.head()"
   ]
  },
  {
   "cell_type": "code",
   "execution_count": 38,
   "id": "e751cd3f",
   "metadata": {},
   "outputs": [],
   "source": [
    "from itertools import combinations\n",
    "from collections import Counter\n",
    "\n",
    "Count=Counter()\n",
    "\n",
    "for row in df['grouped']:\n",
    "    row_list = row.split(',')\n",
    "    Count.update(Counter(combinations(row_list, 3)))"
   ]
  },
  {
   "cell_type": "code",
   "execution_count": 39,
   "id": "64844219",
   "metadata": {},
   "outputs": [
    {
     "data": {
      "text/plain": [
       "Counter({('Google Phone',\n",
       "          'Bose SoundSport Headphones',\n",
       "          'Wired Headphones'): 24,\n",
       "         ('iPhone', 'Apple Airpods Headphones', 'AAA Batteries (4-pack)'): 3,\n",
       "         ('Google Phone',\n",
       "          'USB-C Charging Cable',\n",
       "          'Bose SoundSport Headphones'): 35,\n",
       "         ('Google Phone', 'USB-C Charging Cable', 'Wired Headphones'): 87,\n",
       "         ('Google Phone', 'USB-C Charging Cable', 'USB-C Charging Cable'): 2,\n",
       "         ('Google Phone', 'Wired Headphones', 'USB-C Charging Cable'): 2,\n",
       "         ('USB-C Charging Cable',\n",
       "          'Wired Headphones',\n",
       "          'USB-C Charging Cable'): 1,\n",
       "         ('iPhone', 'Lightning Charging Cable', 'Wired Headphones'): 62,\n",
       "         ('iPhone', 'Lightning Charging Cable', 'Vareebadd Phone'): 1,\n",
       "         ('iPhone', 'Lightning Charging Cable', 'Lightning Charging Cable'): 3,\n",
       "         ('iPhone',\n",
       "          'Lightning Charging Cable',\n",
       "          'Apple Airpods Headphones'): 47,\n",
       "         ('Vareebadd Phone',\n",
       "          'USB-C Charging Cable',\n",
       "          'Bose SoundSport Headphones'): 16,\n",
       "         ('Google Phone', 'USB-C Charging Cable', '27in FHD Monitor'): 2,\n",
       "         ('Vareebadd Phone', 'USB-C Charging Cable', 'Wired Headphones'): 33,\n",
       "         ('iPhone', 'Apple Airpods Headphones', 'Wired Headphones'): 27,\n",
       "         ('USB-C Charging Cable',\n",
       "          'Bose SoundSport Headphones',\n",
       "          'Wired Headphones'): 5,\n",
       "         ('Google Phone', 'USB-C Charging Cable', 'Vareebadd Phone'): 1,\n",
       "         ('Lightning Charging Cable',\n",
       "          'Apple Airpods Headphones',\n",
       "          'Wired Headphones'): 4,\n",
       "         ('iPhone', 'Lightning Charging Cable', 'AA Batteries (4-pack)'): 3,\n",
       "         ('iPhone', 'Wired Headphones', 'AA Batteries (4-pack)'): 1,\n",
       "         ('Lightning Charging Cable',\n",
       "          'Wired Headphones',\n",
       "          'AA Batteries (4-pack)'): 1,\n",
       "         ('Vareebadd Phone', 'USB-C Charging Cable', 'iPhone'): 1,\n",
       "         ('Vareebadd Phone',\n",
       "          'Bose SoundSport Headphones',\n",
       "          'Wired Headphones'): 5,\n",
       "         ('Google Phone', 'USB-C Charging Cable', '34in Ultrawide Monitor'): 1,\n",
       "         ('Google Phone',\n",
       "          'Bose SoundSport Headphones',\n",
       "          '34in Ultrawide Monitor'): 1,\n",
       "         ('USB-C Charging Cable',\n",
       "          'Bose SoundSport Headphones',\n",
       "          '34in Ultrawide Monitor'): 1,\n",
       "         ('Google Phone',\n",
       "          'USB-C Charging Cable',\n",
       "          'Apple Airpods Headphones'): 2,\n",
       "         ('Google Phone', 'Wired Headphones', 'Apple Airpods Headphones'): 1,\n",
       "         ('USB-C Charging Cable',\n",
       "          'Wired Headphones',\n",
       "          'Apple Airpods Headphones'): 1,\n",
       "         ('iPhone', 'Lightning Charging Cable', 'iPhone'): 1,\n",
       "         ('Vareebadd Phone', 'Wired Headphones', 'iPhone'): 1,\n",
       "         ('Vareebadd Phone',\n",
       "          'Wired Headphones',\n",
       "          'Apple Airpods Headphones'): 1,\n",
       "         ('iPhone', 'Lightning Charging Cable', 'Google Phone'): 2,\n",
       "         ('iPhone', 'Apple Airpods Headphones', 'Google Phone'): 1,\n",
       "         ('iPhone', 'Wired Headphones', 'Google Phone'): 1,\n",
       "         ('Lightning Charging Cable',\n",
       "          'Apple Airpods Headphones',\n",
       "          'Google Phone'): 1,\n",
       "         ('Lightning Charging Cable', 'Wired Headphones', 'Google Phone'): 1,\n",
       "         ('Apple Airpods Headphones', 'Wired Headphones', 'Google Phone'): 1,\n",
       "         ('Vareebadd Phone', 'Wired Headphones', '27in 4K Gaming Monitor'): 1,\n",
       "         ('Google Phone', 'USB-C Charging Cable', 'AAA Batteries (4-pack)'): 3,\n",
       "         ('Google Phone', 'USB-C Charging Cable', 'AA Batteries (4-pack)'): 3,\n",
       "         ('Google Phone', 'Wired Headphones', 'Wired Headphones'): 1,\n",
       "         ('USB-C Charging Cable', 'Wired Headphones', 'Wired Headphones'): 1,\n",
       "         ('Google Phone', 'Wired Headphones', 'Macbook Pro Laptop'): 1,\n",
       "         ('Google Phone', 'Wired Headphones', '27in FHD Monitor'): 1,\n",
       "         ('USB-C Charging Cable', 'Wired Headphones', '27in FHD Monitor'): 1,\n",
       "         ('iPhone', 'Lightning Charging Cable', '34in Ultrawide Monitor'): 1,\n",
       "         ('Google Phone', 'Bose SoundSport Headphones', '27in FHD Monitor'): 1,\n",
       "         ('iPhone', 'Lightning Charging Cable', '27in 4K Gaming Monitor'): 1,\n",
       "         ('Google Phone', 'Wired Headphones', 'AA Batteries (4-pack)'): 2,\n",
       "         ('USB-C Charging Cable',\n",
       "          'Wired Headphones',\n",
       "          'AA Batteries (4-pack)'): 1,\n",
       "         ('iPhone',\n",
       "          'Apple Airpods Headphones',\n",
       "          'Bose SoundSport Headphones'): 1,\n",
       "         ('iPhone', 'Lightning Charging Cable', 'USB-C Charging Cable'): 3,\n",
       "         ('iPhone', 'Wired Headphones', 'USB-C Charging Cable'): 1,\n",
       "         ('Lightning Charging Cable',\n",
       "          'Wired Headphones',\n",
       "          'USB-C Charging Cable'): 1,\n",
       "         ('iPhone', 'Wired Headphones', 'Lightning Charging Cable'): 1,\n",
       "         ('Google Phone',\n",
       "          'Bose SoundSport Headphones',\n",
       "          'Apple Airpods Headphones'): 1,\n",
       "         ('Vareebadd Phone',\n",
       "          'USB-C Charging Cable',\n",
       "          'Apple Airpods Headphones'): 1,\n",
       "         ('Google Phone',\n",
       "          'USB-C Charging Cable',\n",
       "          'Lightning Charging Cable'): 1,\n",
       "         ('iPhone', 'Lightning Charging Cable', 'AAA Batteries (4-pack)'): 1,\n",
       "         ('Google Phone',\n",
       "          'Bose SoundSport Headphones',\n",
       "          'Lightning Charging Cable'): 1,\n",
       "         ('Vareebadd Phone', 'Bose SoundSport Headphones', 'Flatscreen TV'): 1,\n",
       "         ('iPhone', 'Lightning Charging Cable', 'Flatscreen TV'): 1,\n",
       "         ('Google Phone', 'USB-C Charging Cable', 'iPhone'): 1,\n",
       "         ('Google Phone', 'Wired Headphones', 'iPhone'): 1,\n",
       "         ('USB-C Charging Cable', 'Wired Headphones', 'iPhone'): 1})"
      ]
     },
     "execution_count": 39,
     "metadata": {},
     "output_type": "execute_result"
    }
   ],
   "source": [
    "Count"
   ]
  },
  {
   "cell_type": "markdown",
   "id": "e695d362",
   "metadata": {},
   "source": [
    "# top 20 products often ordered together\n"
   ]
  },
  {
   "cell_type": "code",
   "execution_count": 40,
   "id": "5ba7af51",
   "metadata": {},
   "outputs": [
    {
     "name": "stdout",
     "output_type": "stream",
     "text": [
      "('Google Phone', 'USB-C Charging Cable', 'Wired Headphones') 87\n",
      "('iPhone', 'Lightning Charging Cable', 'Wired Headphones') 62\n",
      "('iPhone', 'Lightning Charging Cable', 'Apple Airpods Headphones') 47\n",
      "('Google Phone', 'USB-C Charging Cable', 'Bose SoundSport Headphones') 35\n",
      "('Vareebadd Phone', 'USB-C Charging Cable', 'Wired Headphones') 33\n",
      "('iPhone', 'Apple Airpods Headphones', 'Wired Headphones') 27\n",
      "('Google Phone', 'Bose SoundSport Headphones', 'Wired Headphones') 24\n",
      "('Vareebadd Phone', 'USB-C Charging Cable', 'Bose SoundSport Headphones') 16\n",
      "('USB-C Charging Cable', 'Bose SoundSport Headphones', 'Wired Headphones') 5\n",
      "('Vareebadd Phone', 'Bose SoundSport Headphones', 'Wired Headphones') 5\n",
      "('Lightning Charging Cable', 'Apple Airpods Headphones', 'Wired Headphones') 4\n",
      "('iPhone', 'Apple Airpods Headphones', 'AAA Batteries (4-pack)') 3\n",
      "('iPhone', 'Lightning Charging Cable', 'Lightning Charging Cable') 3\n",
      "('iPhone', 'Lightning Charging Cable', 'AA Batteries (4-pack)') 3\n",
      "('Google Phone', 'USB-C Charging Cable', 'AAA Batteries (4-pack)') 3\n",
      "('Google Phone', 'USB-C Charging Cable', 'AA Batteries (4-pack)') 3\n",
      "('iPhone', 'Lightning Charging Cable', 'USB-C Charging Cable') 3\n",
      "('Google Phone', 'USB-C Charging Cable', 'USB-C Charging Cable') 2\n",
      "('Google Phone', 'Wired Headphones', 'USB-C Charging Cable') 2\n",
      "('Google Phone', 'USB-C Charging Cable', '27in FHD Monitor') 2\n"
     ]
    }
   ],
   "source": [
    "for prod,value in Count.most_common(20):\n",
    "    print(prod, value)"
   ]
  },
  {
   "cell_type": "code",
   "execution_count": 41,
   "id": "ac66d769",
   "metadata": {},
   "outputs": [
    {
     "name": "stdout",
     "output_type": "stream",
     "text": [
      "('iPhone', 'Lightning Charging Cable') 1005\n",
      "('Google Phone', 'USB-C Charging Cable') 987\n",
      "('iPhone', 'Wired Headphones') 447\n",
      "('Google Phone', 'Wired Headphones') 414\n",
      "('Vareebadd Phone', 'USB-C Charging Cable') 361\n",
      "('iPhone', 'Apple Airpods Headphones') 360\n",
      "('Google Phone', 'Bose SoundSport Headphones') 220\n",
      "('USB-C Charging Cable', 'Wired Headphones') 160\n",
      "('Vareebadd Phone', 'Wired Headphones') 143\n",
      "('Lightning Charging Cable', 'Wired Headphones') 92\n",
      "('Google Phone', 'USB-C Charging Cable', 'Wired Headphones') 87\n",
      "('Lightning Charging Cable', 'Apple Airpods Headphones') 81\n",
      "('Vareebadd Phone', 'Bose SoundSport Headphones') 80\n",
      "('USB-C Charging Cable', 'Bose SoundSport Headphones') 77\n",
      "('Apple Airpods Headphones', 'Wired Headphones') 69\n",
      "('iPhone', 'Lightning Charging Cable', 'Wired Headphones') 62\n",
      "('Lightning Charging Cable', 'USB-C Charging Cable') 58\n",
      "('Lightning Charging Cable', 'AA Batteries (4-pack)') 55\n",
      "('Lightning Charging Cable', 'Lightning Charging Cable') 54\n",
      "('Bose SoundSport Headphones', 'Wired Headphones') 53\n"
     ]
    }
   ],
   "source": [
    "for row in df['grouped']:\n",
    "    row_list = row.split(',')\n",
    "    Count.update(Counter(combinations(row_list, 2)))\n",
    "    \n",
    "for prod,value in Count.most_common(20):\n",
    "    print(prod, value)"
   ]
  },
  {
   "cell_type": "code",
   "execution_count": null,
   "id": "a2efb2c4",
   "metadata": {},
   "outputs": [],
   "source": []
  }
 ],
 "metadata": {
  "kernelspec": {
   "display_name": "Python 3",
   "language": "python",
   "name": "python3"
  },
  "language_info": {
   "codemirror_mode": {
    "name": "ipython",
    "version": 3
   },
   "file_extension": ".py",
   "mimetype": "text/x-python",
   "name": "python",
   "nbconvert_exporter": "python",
   "pygments_lexer": "ipython3",
   "version": "3.8.8"
  }
 },
 "nbformat": 4,
 "nbformat_minor": 5
}
